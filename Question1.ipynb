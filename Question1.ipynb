{
 "cells": [
  {
   "cell_type": "code",
   "execution_count": 59,
   "metadata": {
    "collapsed": false
   },
   "outputs": [],
   "source": [
    "import numpy as np"
   ]
  },
  {
   "cell_type": "code",
   "execution_count": 60,
   "metadata": {
    "collapsed": false
   },
   "outputs": [],
   "source": [
    "arr = np.random.randint(1,100,size=10000000)"
   ]
  },
  {
   "cell_type": "code",
   "execution_count": 61,
   "metadata": {
    "collapsed": false
   },
   "outputs": [],
   "source": [
    "UnsortedFile = open('unsorted.txt','w')\n",
    "for item in arr:\n",
    "    UnsortedFile.write(\"%s\\n\" % item)\n"
   ]
  },
  {
   "cell_type": "code",
   "execution_count": 62,
   "metadata": {
    "collapsed": true
   },
   "outputs": [],
   "source": [
    "def partition(arr, pivot):\n",
    "    less, equal, greater = [], [], []\n",
    "    for val in arr:\n",
    "        if val  < pivot: less.append(val)\n",
    "        if val == pivot: equal.append(val)\n",
    "        if val  > pivot: greater.append(val)\n",
    "    return less, equal, greater"
   ]
  },
  {
   "cell_type": "code",
   "execution_count": 63,
   "metadata": {
    "collapsed": true
   },
   "outputs": [],
   "source": [
    "def qsort(arr):\n",
    "    if len(arr) <= 1: return arr\n",
    "    pivot = arr[0]\n",
    "    less, equal, greater = partition(arr, pivot)\n",
    "    return qsort(less) + equal + qsort(greater)"
   ]
  },
  {
   "cell_type": "code",
   "execution_count": 64,
   "metadata": {
    "collapsed": true
   },
   "outputs": [],
   "source": [
    "arr1 = qsort(arr)"
   ]
  },
  {
   "cell_type": "code",
   "execution_count": 65,
   "metadata": {
    "collapsed": true
   },
   "outputs": [],
   "source": [
    "SortedFile = open('sorted.txt','w')\n",
    "for item in arr1:\n",
    "    SortedFile.write(\"%s\\n\" % item)"
   ]
  },
  {
   "cell_type": "markdown",
   "metadata": {
    "collapsed": true
   },
   "source": [
    "Sorting technique used : 3 way quick sort.\n",
    "because\n",
    "1. Quicksort in particular requires little additional space and exhibits good cache locality, and this makes it faster than merge sort in many cases (whose worst case is O(nlogn)\n",
    "2. It’s very easy to avoid quicksort’s worst-case run time of O(n2) almost entirely by using an appropriate choice of the pivot – such as picking it at random.\n",
    "In 3 way Quick sort, we process all occurrences of pivot and is based on Dutch National Flag algorithm.\n",
    "\n",
    "Improvement - Dual pivot Quick sort (late night realization)\n",
    "\n",
    "Time complexities :-\n",
    "1. Best case : omega(nlogn)\n",
    "2. worst case : omega(n^2) - which can be avoided\n",
    "\n",
    "Space complexity\n",
    "1. Best case :\n",
    "2. worst case :"
   ]
  }
 ],
 "metadata": {
  "anaconda-cloud": {},
  "kernelspec": {
   "display_name": "Python [default]",
   "language": "python",
   "name": "python3"
  },
  "language_info": {
   "codemirror_mode": {
    "name": "ipython",
    "version": 3
   },
   "file_extension": ".py",
   "mimetype": "text/x-python",
   "name": "python",
   "nbconvert_exporter": "python",
   "pygments_lexer": "ipython3",
   "version": "3.5.4"
  }
 },
 "nbformat": 4,
 "nbformat_minor": 1
}
